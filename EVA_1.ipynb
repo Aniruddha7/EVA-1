{
  "nbformat": 4,
  "nbformat_minor": 0,
  "metadata": {
    "colab": {
      "name": "EVA 1.ipynb",
      "version": "0.3.2",
      "provenance": [],
      "collapsed_sections": [],
      "include_colab_link": true
    },
    "kernelspec": {
      "name": "python3",
      "display_name": "Python 3"
    },
    "accelerator": "GPU"
  },
  "cells": [
    {
      "cell_type": "markdown",
      "metadata": {
        "id": "view-in-github",
        "colab_type": "text"
      },
      "source": [
        "<a href=\"https://colab.research.google.com/github/Aniruddha7/EVA-1/blob/master/EVA_1.ipynb\" target=\"_parent\"><img src=\"https://colab.research.google.com/assets/colab-badge.svg\" alt=\"Open In Colab\"/></a>"
      ]
    },
    {
      "cell_type": "code",
      "metadata": {
        "id": "BB9fYbgSXn-D",
        "colab_type": "code",
        "colab": {}
      },
      "source": [
        "# import the necessary packages\n",
        "import numpy as np\n",
        "from urllib.request import urlopen\n",
        "import cv2\n",
        "from matplotlib import pyplot as plt\n",
        "\n",
        "# METHOD #1: OpenCV, NumPy, and urllib\n",
        "def url_to_image(url):\n",
        "\t# download the image, convert it to a NumPy array, and then read\n",
        "\t# it into OpenCV format\n",
        "\tresp = urlopen(url)\n",
        "\timage = np.asarray(bytearray(resp.read()), dtype=\"uint8\")\n",
        "\timage = cv2.imdecode(image, cv2.IMREAD_COLOR)\n",
        " \n",
        "\t# return the image\n",
        "\treturn image"
      ],
      "execution_count": 0,
      "outputs": []
    },
    {
      "cell_type": "code",
      "metadata": {
        "id": "qoXh91ynXxsW",
        "colab_type": "code",
        "colab": {}
      },
      "source": [
        "image = url_to_image(\"https://fontsarena-cd5e.kxcdn.com/wp-content/uploads/2019/04/helvetica-now-font-400x364.png\")"
      ],
      "execution_count": 0,
      "outputs": []
    },
    {
      "cell_type": "code",
      "metadata": {
        "id": "0HdtqdoyXzgv",
        "colab_type": "code",
        "colab": {}
      },
      "source": [
        "from google.colab.patches import cv2_imshow\n",
        "cv2_imshow(image)"
      ],
      "execution_count": 0,
      "outputs": []
    },
    {
      "cell_type": "code",
      "metadata": {
        "id": "Ud89MnW5X1xJ",
        "colab_type": "code",
        "colab": {}
      },
      "source": [
        "edges = cv2.Canny(image,100,200)"
      ],
      "execution_count": 0,
      "outputs": []
    },
    {
      "cell_type": "code",
      "metadata": {
        "id": "jxWLq7dlX3n0",
        "colab_type": "code",
        "colab": {}
      },
      "source": [
        "cv2_imshow(edges)"
      ],
      "execution_count": 0,
      "outputs": []
    },
    {
      "cell_type": "code",
      "metadata": {
        "id": "nZvSeb20X5QG",
        "colab_type": "code",
        "colab": {}
      },
      "source": [
        "#kernel = np.ones((3,3),np.float32)/25\n",
        "#Vertical edge detector\n",
        "kernel = np.float32([[-1,0,1],[-1,0,1],[-1,0,1]])\n",
        "\n",
        "dst = cv2.filter2D(image,-1,kernel)\n",
        "cv2_imshow(dst)"
      ],
      "execution_count": 0,
      "outputs": []
    },
    {
      "cell_type": "code",
      "metadata": {
        "id": "3VSPtQkgzaK9",
        "colab_type": "code",
        "colab": {}
      },
      "source": [
        "#Horizontal edge detector\n",
        "\n",
        "kernel = np.float32([[1,1,1],[0,0,0],[-1,-1,-1]])\n",
        "\n",
        "dst = cv2.filter2D(image,-1,kernel)\n",
        "cv2_imshow(dst)"
      ],
      "execution_count": 0,
      "outputs": []
    },
    {
      "cell_type": "code",
      "metadata": {
        "id": "zKy1_60GEJRA",
        "colab_type": "code",
        "colab": {}
      },
      "source": [
        "# 45 Degree edge detector\n",
        "#kernel = np.float32([[-1,0,1],[-2,0,2],[-1,0,1]])\n",
        "#kernel = np.float32([[0,1,2],[-1,0,1],[-2,-1,0]])\n",
        "kernel = np.float32([[0,-1,-2],[1,0,-1],[2,1,0]])\n",
        "\n",
        "dst = cv2.filter2D(image,-1,kernel)\n",
        "cv2_imshow(dst)"
      ],
      "execution_count": 0,
      "outputs": []
    },
    {
      "cell_type": "code",
      "metadata": {
        "id": "XAwtvlgBKMQ9",
        "colab_type": "code",
        "colab": {}
      },
      "source": [
        "# Blur or Average smoothing\n",
        "kernel = 1/9*(np.float32([[1,1,1],[1,1,1],[1,1,1]]))\n",
        "\n",
        "dst = cv2.filter2D(image,-1,kernel)\n",
        "cv2_imshow(dst)"
      ],
      "execution_count": 0,
      "outputs": []
    },
    {
      "cell_type": "code",
      "metadata": {
        "id": "6-m_EgNUtW86",
        "colab_type": "code",
        "colab": {}
      },
      "source": [
        "#Image sharpening\n",
        "kernel = np.float32([[0,-1,0],[-1,5,-1],[0,-1,0]])\n",
        "\n",
        "dst = cv2.filter2D(image,-1,kernel)\n",
        "cv2_imshow(dst)"
      ],
      "execution_count": 0,
      "outputs": []
    },
    {
      "cell_type": "code",
      "metadata": {
        "id": "VWbKek7mZ8rn",
        "colab_type": "code",
        "colab": {}
      },
      "source": [
        "# Identity function\n",
        "kernel = np.float32([[0,0,0],[0,1,0],[0,0,0]])\n",
        "\n",
        "dst = cv2.filter2D(image,-1,kernel)\n",
        "cv2_imshow(dst)"
      ],
      "execution_count": 0,
      "outputs": []
    }
  ]
}